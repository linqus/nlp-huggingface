{
  "nbformat": 4,
  "nbformat_minor": 0,
  "metadata": {
    "colab": {
      "provenance": [],
      "authorship_tag": "ABX9TyMBU+RZ8xbzE+VA9E2J500H",
      "include_colab_link": true
    },
    "kernelspec": {
      "name": "python3",
      "display_name": "Python 3"
    },
    "language_info": {
      "name": "python"
    }
  },
  "cells": [
    {
      "cell_type": "markdown",
      "metadata": {
        "id": "view-in-github",
        "colab_type": "text"
      },
      "source": [
        "<a href=\"https://colab.research.google.com/github/linqus/nlp-huggingface/blob/main/notebooks/unit4/nlp_4_3.ipynb\" target=\"_parent\"><img src=\"https://colab.research.google.com/assets/colab-badge.svg\" alt=\"Open In Colab\"/></a>"
      ]
    },
    {
      "cell_type": "code",
      "execution_count": 28,
      "metadata": {
        "id": "bc96FMHtUabV",
        "outputId": "5ff9fd72-62ea-4dab-f796-de3020be83e4",
        "colab": {
          "base_uri": "https://localhost:8080/"
        }
      },
      "outputs": [
        {
          "output_type": "stream",
          "name": "stderr",
          "text": [
            "Some weights of the model checkpoint at camembert-base were not used when initializing CamembertForMaskedLM: ['roberta.pooler.dense.weight', 'roberta.pooler.dense.bias']\n",
            "- This IS expected if you are initializing CamembertForMaskedLM from the checkpoint of a model trained on another task or with another architecture (e.g. initializing a BertForSequenceClassification model from a BertForPreTraining model).\n",
            "- This IS NOT expected if you are initializing CamembertForMaskedLM from the checkpoint of a model that you expect to be exactly identical (initializing a BertForSequenceClassification model from a BertForSequenceClassification model).\n"
          ]
        },
        {
          "output_type": "execute_result",
          "data": {
            "text/plain": [
              "[{'score': 0.1571548581123352,\n",
              "  'token': 7200,\n",
              "  'token_str': 'délicieux',\n",
              "  'sequence': 'Le camembert est délicieux.'},\n",
              " {'score': 0.05731638893485069,\n",
              "  'token': 2183,\n",
              "  'token_str': 'excellent',\n",
              "  'sequence': 'Le camembert est excellent.'},\n",
              " {'score': 0.025972094386816025,\n",
              "  'token': 19282,\n",
              "  'token_str': 'végétarien',\n",
              "  'sequence': 'Le camembert est végétarien.'},\n",
              " {'score': 0.02591652236878872,\n",
              "  'token': 528,\n",
              "  'token_str': 'meilleur',\n",
              "  'sequence': 'Le camembert est meilleur.'},\n",
              " {'score': 0.01963009499013424,\n",
              "  'token': 19507,\n",
              "  'token_str': 'savoureux',\n",
              "  'sequence': 'Le camembert est savoureux.'}]"
            ]
          },
          "metadata": {},
          "execution_count": 28
        }
      ],
      "source": [
        "from transformers import pipeline\n",
        "\n",
        "checkpoint = 'camembert-base'\n",
        "\n",
        "pipe = pipeline('fill-mask', model=checkpoint)\n",
        "\n",
        "pipe('Le camembert est <mask>.')"
      ]
    },
    {
      "cell_type": "code",
      "source": [
        "from transformers import AutoTokenizer, AutoModelForMaskedLM\n",
        "import torch\n",
        "\n",
        "tokenizer = AutoTokenizer.from_pretrained(checkpoint)\n",
        "model = AutoModelForMaskedLM.from_pretrained(checkpoint)\n",
        "\n",
        "model_inputs = tokenizer(['Le camembert est <mask>.'])\n",
        "model_inputs = torch.tensor(model_inputs['input_ids'])\n",
        "print(model_inputs)\n",
        "\n",
        "model(model_inputs)"
      ],
      "metadata": {
        "id": "dvpqhUWvXUup",
        "outputId": "e2381c5d-a16d-44f7-c1b9-4c09b636d26c",
        "colab": {
          "base_uri": "https://localhost:8080/"
        }
      },
      "execution_count": 27,
      "outputs": [
        {
          "output_type": "stream",
          "name": "stderr",
          "text": [
            "Some weights of the model checkpoint at camembert-base were not used when initializing CamembertForMaskedLM: ['roberta.pooler.dense.weight', 'roberta.pooler.dense.bias']\n",
            "- This IS expected if you are initializing CamembertForMaskedLM from the checkpoint of a model trained on another task or with another architecture (e.g. initializing a BertForSequenceClassification model from a BertForPreTraining model).\n",
            "- This IS NOT expected if you are initializing CamembertForMaskedLM from the checkpoint of a model that you expect to be exactly identical (initializing a BertForSequenceClassification model from a BertForSequenceClassification model).\n"
          ]
        },
        {
          "output_type": "stream",
          "name": "stdout",
          "text": [
            "tensor([[    5,    54,   730, 25543,   110,    30, 32004,    21,     9,     6]])\n"
          ]
        },
        {
          "output_type": "execute_result",
          "data": {
            "text/plain": [
              "MaskedLMOutput(loss=None, logits=tensor([[[ 20.5071,  -4.1058,   6.1733,  ...,  -6.2909,  -2.4738,   0.9508],\n",
              "         [  1.6659,  -3.9401,  12.8477,  ..., -11.3697,  -1.3494,  -0.5664],\n",
              "         [  0.3796,  -9.5146,   1.2025,  ..., -23.0538, -11.6686,  -2.4588],\n",
              "         ...,\n",
              "         [  0.1667,  -8.4290,   5.7068,  ..., -13.5431,  -7.9949,  -1.1039],\n",
              "         [  0.4679,  -8.7976,   5.5980,  ...,  -5.3406,  -6.7919,   1.1471],\n",
              "         [  1.3258,  -5.9730,  23.6245,  ...,  -8.6799,  -5.3429,   1.5472]]],\n",
              "       grad_fn=<ViewBackward0>), hidden_states=None, attentions=None)"
            ]
          },
          "metadata": {},
          "execution_count": 27
        }
      ]
    }
  ]
}